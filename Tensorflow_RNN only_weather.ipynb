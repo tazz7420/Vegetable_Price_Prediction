{
 "cells": [
  {
   "cell_type": "code",
   "execution_count": 1,
   "metadata": {},
   "outputs": [],
   "source": [
    "import numpy as np\n",
    "import matplotlib.pyplot as plt\n",
    "import pandas as pd\n",
    "\n",
    "from sklearn.preprocessing import StandardScaler, MinMaxScaler"
   ]
  },
  {
   "cell_type": "code",
   "execution_count": 2,
   "metadata": {},
   "outputs": [
    {
     "name": "stdout",
     "output_type": "stream",
     "text": [
      "(7038, 19)\n",
      "Index(['Mon', 'Tue', 'Wed', 'Thu', 'Fri', 'Sat', 'Sun', 'pressure',\n",
      "       'temperature', 'humidity', 'windspeed', 'wind_direction',\n",
      "       'maximum_windspeed_x', 'maximum_wind_direction', 'rainfall', 'volume',\n",
      "       'level', 'alarms_count', 'price'],\n",
      "      dtype='object')\n",
      "19\n"
     ]
    }
   ],
   "source": [
    "dataset_train = pd.read_csv('forml.csv')  # 讀取\n",
    "dataset_train.drop(['Unnamed: 0','date','day','month','year','D+1','D+3','D+5','D+7'],axis=1,inplace=True)\n",
    "training_data = dataset_train[:7038]\n",
    "test_data = dataset_train[7038:7768]\n",
    "print(training_data.shape)\n",
    "print(test_data.columns)\n",
    "print(training_data.shape[1])"
   ]
  },
  {
   "cell_type": "code",
   "execution_count": 3,
   "metadata": {},
   "outputs": [
    {
     "name": "stdout",
     "output_type": "stream",
     "text": [
      "-0.8126060181758046\n"
     ]
    }
   ],
   "source": [
    "#sc = MinMaxScaler(feature_range=(0,1))\n",
    "sc = StandardScaler()\n",
    "training_data_sc = sc.fit_transform(training_data)\n",
    "test_data_sc = sc.transform(test_data)\n",
    "print(training_data_sc[1,18])"
   ]
  },
  {
   "cell_type": "code",
   "execution_count": 4,
   "metadata": {},
   "outputs": [],
   "source": [
    "def createXY(dataset, n_past):\n",
    "    X = []\n",
    "    y = []\n",
    "    for i in range(n_past, len(dataset)):\n",
    "        X.append(dataset[i - n_past:i, 0:dataset.shape[1]-1])\n",
    "        y.append(dataset[i,18])\n",
    "    return np.array(X),np.array(y)"
   ]
  },
  {
   "cell_type": "code",
   "execution_count": 5,
   "metadata": {},
   "outputs": [],
   "source": [
    "train_X, train_y = createXY(training_data_sc, 15)\n",
    "test_X, test_y = createXY(test_data_sc,15)"
   ]
  },
  {
   "cell_type": "code",
   "execution_count": 6,
   "metadata": {},
   "outputs": [],
   "source": [
    "# Import the Keras libraries and packages\n",
    "from keras.models import Sequential\n",
    "from keras.layers import Dense\n",
    "from keras.layers import LSTM\n",
    "from keras.layers import Dropout\n",
    "\n",
    "# Initialising the RNN\n",
    "regressor = Sequential()\n",
    "# Adding the first LSTM layer and some Dropout regularisation\n",
    "regressor.add(LSTM(units = 50, return_sequences = True, input_shape = (15,18)))\n",
    "#regressor.add(Dropout(0.2))\n",
    "\n",
    "# Adding a second LSTM layer and some Dropout regularisation\n",
    "regressor.add(LSTM(units = 50, return_sequences = True))\n",
    "#regressor.add(Dropout(0.2))\n",
    "\n",
    "# Adding a third LSTM layer and some Dropout regularisation\n",
    "regressor.add(LSTM(units = 50, return_sequences = True))\n",
    "#regressor.add(Dropout(0.2))\n",
    "\n",
    "# Adding a fourth LSTM layer and some Dropout regularisation\n",
    "regressor.add(LSTM(units = 50))\n",
    "#regressor.add(Dropout(0.2))\n",
    "\n",
    "# Adding the output layer\n",
    "regressor.add(Dense(units = 1))"
   ]
  },
  {
   "cell_type": "code",
   "execution_count": 7,
   "metadata": {},
   "outputs": [
    {
     "name": "stdout",
     "output_type": "stream",
     "text": [
      "Epoch 1/50\n",
      "55/55 [==============================] - 7s 33ms/step - loss: 0.4699\n",
      "Epoch 2/50\n",
      "55/55 [==============================] - 2s 32ms/step - loss: 0.3360\n",
      "Epoch 3/50\n",
      "55/55 [==============================] - 2s 33ms/step - loss: 0.2841\n",
      "Epoch 4/50\n",
      "55/55 [==============================] - 2s 33ms/step - loss: 0.2354\n",
      "Epoch 5/50\n",
      "55/55 [==============================] - 2s 34ms/step - loss: 0.2115\n",
      "Epoch 6/50\n",
      "55/55 [==============================] - 2s 33ms/step - loss: 0.1824\n",
      "Epoch 7/50\n",
      "55/55 [==============================] - 2s 35ms/step - loss: 0.1598\n",
      "Epoch 8/50\n",
      "55/55 [==============================] - 2s 36ms/step - loss: 0.1472\n",
      "Epoch 9/50\n",
      "55/55 [==============================] - 2s 33ms/step - loss: 0.1292\n",
      "Epoch 10/50\n",
      "55/55 [==============================] - 2s 34ms/step - loss: 0.1231\n",
      "Epoch 11/50\n",
      "55/55 [==============================] - 2s 35ms/step - loss: 0.1103\n",
      "Epoch 12/50\n",
      "55/55 [==============================] - 2s 34ms/step - loss: 0.0983\n",
      "Epoch 13/50\n",
      "55/55 [==============================] - 2s 37ms/step - loss: 0.0919\n",
      "Epoch 14/50\n",
      "55/55 [==============================] - 2s 34ms/step - loss: 0.0845\n",
      "Epoch 15/50\n",
      "55/55 [==============================] - 2s 34ms/step - loss: 0.0788\n",
      "Epoch 16/50\n",
      "55/55 [==============================] - 2s 31ms/step - loss: 0.0740\n",
      "Epoch 17/50\n",
      "55/55 [==============================] - 2s 31ms/step - loss: 0.0676\n",
      "Epoch 18/50\n",
      "55/55 [==============================] - 2s 32ms/step - loss: 0.0645\n",
      "Epoch 19/50\n",
      "55/55 [==============================] - 2s 34ms/step - loss: 0.0615\n",
      "Epoch 20/50\n",
      "55/55 [==============================] - 2s 34ms/step - loss: 0.0586\n",
      "Epoch 21/50\n",
      "55/55 [==============================] - 2s 31ms/step - loss: 0.0556\n",
      "Epoch 22/50\n",
      "55/55 [==============================] - 2s 31ms/step - loss: 0.0537\n",
      "Epoch 23/50\n",
      "55/55 [==============================] - 2s 33ms/step - loss: 0.0511\n",
      "Epoch 24/50\n",
      "55/55 [==============================] - 2s 31ms/step - loss: 0.0506\n",
      "Epoch 25/50\n",
      "55/55 [==============================] - 2s 32ms/step - loss: 0.0477\n",
      "Epoch 26/50\n",
      "55/55 [==============================] - 2s 34ms/step - loss: 0.0433\n",
      "Epoch 27/50\n",
      "55/55 [==============================] - 2s 35ms/step - loss: 0.0433\n",
      "Epoch 28/50\n",
      "55/55 [==============================] - 2s 34ms/step - loss: 0.0448\n",
      "Epoch 29/50\n",
      "55/55 [==============================] - 2s 33ms/step - loss: 0.0414\n",
      "Epoch 30/50\n",
      "55/55 [==============================] - 2s 32ms/step - loss: 0.0395\n",
      "Epoch 31/50\n",
      "55/55 [==============================] - 2s 32ms/step - loss: 0.0368\n",
      "Epoch 32/50\n",
      "55/55 [==============================] - 2s 32ms/step - loss: 0.0375\n",
      "Epoch 33/50\n",
      "55/55 [==============================] - 2s 32ms/step - loss: 0.0360\n",
      "Epoch 34/50\n",
      "55/55 [==============================] - 2s 32ms/step - loss: 0.0340\n",
      "Epoch 35/50\n",
      "55/55 [==============================] - 2s 32ms/step - loss: 0.0333\n",
      "Epoch 36/50\n",
      "55/55 [==============================] - 2s 32ms/step - loss: 0.0319\n",
      "Epoch 37/50\n",
      "55/55 [==============================] - 2s 32ms/step - loss: 0.0308\n",
      "Epoch 38/50\n",
      "55/55 [==============================] - 2s 36ms/step - loss: 0.0316\n",
      "Epoch 39/50\n",
      "55/55 [==============================] - 2s 33ms/step - loss: 0.0299\n",
      "Epoch 40/50\n",
      "55/55 [==============================] - 2s 33ms/step - loss: 0.0286\n",
      "Epoch 41/50\n",
      "55/55 [==============================] - 2s 33ms/step - loss: 0.0289\n",
      "Epoch 42/50\n",
      "55/55 [==============================] - 2s 33ms/step - loss: 0.0267\n",
      "Epoch 43/50\n",
      "55/55 [==============================] - 2s 33ms/step - loss: 0.0255\n",
      "Epoch 44/50\n",
      "55/55 [==============================] - 2s 33ms/step - loss: 0.0261\n",
      "Epoch 45/50\n",
      "55/55 [==============================] - 2s 33ms/step - loss: 0.0257\n",
      "Epoch 46/50\n",
      "55/55 [==============================] - 2s 34ms/step - loss: 0.0256\n",
      "Epoch 47/50\n",
      "55/55 [==============================] - 2s 34ms/step - loss: 0.0244\n",
      "Epoch 48/50\n",
      "55/55 [==============================] - 2s 34ms/step - loss: 0.0234\n",
      "Epoch 49/50\n",
      "55/55 [==============================] - 2s 34ms/step - loss: 0.0227\n",
      "Epoch 50/50\n",
      "55/55 [==============================] - 2s 34ms/step - loss: 0.0216\n"
     ]
    },
    {
     "data": {
      "text/plain": [
       "<keras.callbacks.History at 0x136da0f84f0>"
      ]
     },
     "execution_count": 7,
     "metadata": {},
     "output_type": "execute_result"
    }
   ],
   "source": [
    "# Compiling\n",
    "regressor.compile(optimizer = 'adam', loss = 'mean_squared_error')\n",
    "\n",
    "# 進行訓練\n",
    "regressor.fit(train_X, train_y, epochs = 50, batch_size = 128)"
   ]
  },
  {
   "cell_type": "code",
   "execution_count": 8,
   "metadata": {},
   "outputs": [
    {
     "name": "stdout",
     "output_type": "stream",
     "text": [
      "23/23 [==============================] - 1s 6ms/step\n",
      "[16.537216  12.054458  10.892606   9.614875   9.197136   8.525783\n",
      "  7.759126   5.184981   4.745871   5.2546334  6.0033116  6.1524577\n",
      "  6.6034102  7.760568  14.217114  15.06966   14.451114  16.254475\n",
      " 15.288933  15.998522  17.066397  14.894928  10.925616  12.068074\n",
      "  8.364537   6.780149   5.463424   4.799496   5.2533393  6.37355\n",
      "  7.109362  10.01771   12.7188425 12.528393  16.116743  18.837023\n",
      " 16.639587  10.84897    6.820108   6.678695   6.479339   6.7003226\n",
      "  6.429503   6.1140103  5.762114   6.171599   6.3619275  6.894159\n",
      "  7.261416   6.9931636  6.3303046  6.6005054  7.9853854  9.745491\n",
      " 11.247632  12.900355  14.187734  16.819807  16.860395  16.57286\n",
      " 14.772065  15.2498    13.244456  12.242565  13.199413  12.365873\n",
      " 12.794113  16.764492  15.075511  18.215002  16.851772  16.648605\n",
      " 17.116549  18.948946  17.94297   17.016354  17.352049  17.682556\n",
      " 15.158718  13.432462  11.835373  13.025362  13.946817  14.522848\n",
      " 13.66975   12.83207   13.550205  13.425794  14.662806  14.97344\n",
      " 18.52209   15.109363  13.524513  14.822857  17.598764  17.738909\n",
      " 19.173399  19.444004  20.254438  20.438871  21.960297  25.058191\n",
      " 28.477491  24.667984  27.668056  27.116932  26.783775  24.764511\n",
      " 20.847683  19.820467  21.188602  19.81849   19.708298  19.887506\n",
      " 18.95868   18.54442   16.641644  15.968453  22.096436  24.998661\n",
      " 23.295998  27.283342  22.560474  20.459782  27.361519  34.19823\n",
      " 32.840828  30.435942  27.149912  19.093172  21.112885  21.717838\n",
      " 20.963682  23.503399  25.592344  25.432358  26.93875   26.673042\n",
      " 28.502611  30.269531  31.1155    32.744328  33.556408  31.90151\n",
      " 32.722347  34.99146   38.448853  40.47945   34.532677  32.84676\n",
      " 30.056822  28.431175  28.777143  32.22317   34.07376   32.76589\n",
      " 33.522057  38.961197  40.237606  39.026447  37.204845  32.688126\n",
      " 28.84246   29.313778  32.2697    30.231327  32.68605   34.687893\n",
      " 36.52361   34.902203  36.547306  39.086636  36.569595  36.155582\n",
      " 35.88696   41.77416   42.81496   44.75319   29.536516  22.726967\n",
      " 19.030882  21.970556  18.23299   16.693544  16.103651  16.204174\n",
      " 16.757318  20.088858  19.444324  20.059292  20.69686   22.183699\n",
      " 22.239603  26.176903  28.547985  30.3072    30.708849  30.189163\n",
      " 30.253239  33.84347   35.754696  33.053066  29.971647  27.377747\n",
      " 24.904081  23.937763  22.370071  15.84367   12.086523  11.678326\n",
      " 10.696295   9.327913  10.178968  10.416562  10.100055   9.573603\n",
      "  9.7366705 11.200841  11.363273   9.350927   8.348391   7.398107\n",
      "  8.25047    7.969917   7.208322   6.2626643  7.541017  12.655923\n",
      " 15.305641  14.195508  11.318046   9.157625   9.297032   9.142414\n",
      "  9.803826  10.4527    10.206878  11.314972  12.174466  12.436487\n",
      " 14.431432  15.602732  15.506406  10.386014  11.325138  10.0533905\n",
      " 10.291459  13.811108  13.375553  14.545505  18.829052  18.851828\n",
      " 18.284977  17.937181  18.122515  20.914385  24.881395  24.196857\n",
      " 24.250654  24.07287   23.82646   23.19662   19.7041    20.507637\n",
      " 17.07821   17.711096  18.840963  17.841045  11.90496   12.013118\n",
      " 13.465042  13.074032  15.753398  20.529215  19.4179    19.887623\n",
      " 20.636837  14.444887  11.618761  11.411505   8.093876   7.9145417\n",
      "  8.397369   7.8854585  7.079389   6.726603   6.0290895  6.2035155\n",
      "  6.4981456  5.4212556  4.588818   4.801389   4.9646516  5.2937503\n",
      "  5.641845   5.488293   5.6069646  5.34393    5.4015574  5.8209805\n",
      "  6.095142   6.888268   5.870295   5.5010448  4.721152   5.2624707\n",
      "  9.995198   7.334328   7.13042    6.5040174  7.1060405  7.5123305\n",
      "  7.4470086  6.6748414  6.344998   5.709453   6.1446414  7.8587966\n",
      "  5.57007    4.158583   4.4668775  4.839996   4.9906716  5.3508058\n",
      "  6.179464   6.613336   6.7389426  6.9476647  8.026629   9.010598\n",
      " 10.415442  12.723594  11.949466  11.815768  12.705286  12.597003\n",
      " 12.735536  12.618142  10.839456  12.875704  12.185445  13.530288\n",
      " 17.902775  20.479063  20.087494  19.9137    15.065679  10.489895\n",
      "  6.6332374  6.9363503  8.90495   11.088631   9.389301   9.281928\n",
      "  9.520342  11.121951  11.520593  13.541761  12.712763  15.746596\n",
      " 18.032585  17.934052  16.633415  20.313818  20.170906  19.27191\n",
      " 19.521147  18.013918  15.725696  16.337898  15.293092  15.8435755\n",
      " 16.043652  13.865155  14.500447  17.625475  17.608095  18.066944\n",
      " 18.242617  19.290478  19.098278  18.627756  18.357018  19.216913\n",
      " 18.27152   16.465206  14.826629  15.031105  17.691118  19.178406\n",
      " 20.940786  21.509686  24.599752  25.42899   25.463308  27.451912\n",
      " 29.683395  33.05068   34.388344  33.351444  31.284908  28.656359\n",
      " 27.51288   29.95114   29.755106  32.728764  33.33615   33.27906\n",
      " 36.366856  34.12604   30.778997  33.623905  34.78663   43.53075\n",
      " 51.16439   56.876522  51.304585  46.54815   40.34611   32.268555\n",
      " 31.957514  28.66766   27.854652  29.683264  30.325521  30.129179\n",
      " 33.295025  32.970417  34.611454  34.782562  35.06691   35.58872\n",
      " 37.35695   38.71722   39.004326  39.10423   37.750393  36.21843\n",
      " 37.017925  40.828598  47.044563  42.994007  43.83971   44.71318\n",
      " 43.446823  40.797203  37.715492  36.794765  38.09008   39.57312\n",
      " 36.94406   38.122154  38.83739   38.268745  38.52022   33.83595\n",
      " 32.560818  31.603418  35.086678  37.08129   35.73181   33.451614\n",
      " 31.14456   29.053318  30.015312  33.8805    34.274624  34.373913\n",
      " 38.34702   41.25215   41.756496  36.455154  36.43095   33.31206\n",
      " 31.046825  30.096403  30.298443  35.312305  37.725536  37.26674\n",
      " 34.35893   38.213223  38.63664   34.19114   33.953156  36.224228\n",
      " 37.915085  36.643024  37.832146  41.351406  40.694546  41.66038\n",
      " 40.096054  38.12697   30.779036  32.865227  28.581512  17.404299\n",
      " 17.590662  16.963411  15.027429  13.888367  12.563893  12.091134\n",
      " 11.785289  13.502675  12.951818  11.227411  10.504965  10.310371\n",
      " 11.4813595 12.457274  13.207839  11.247026  11.914612  11.875193\n",
      " 10.3777685 10.868085   9.507763   8.309      8.705669   9.133212\n",
      " 11.458978  10.976047  11.825425  10.727926  10.512239  12.155526\n",
      " 12.145245  11.549452  14.238251  13.292581  13.359249  13.9636135\n",
      " 15.486287  17.858345  21.067352  20.240585  18.428715  17.253546\n",
      " 17.7638    18.140745  17.006832  17.263912  16.87732   16.208155\n",
      " 19.391909  18.465862  15.416035  13.028817  15.719007  15.935061\n",
      " 17.531612  16.618916  16.691637  12.76798   11.90126   10.621354\n",
      " 15.072875  16.160887  15.281435  15.409167  14.2553835 13.702185\n",
      " 15.077045  13.207178  10.869868   6.5707974  6.6709495  5.8972106\n",
      "  6.629729   6.464234   8.094669  10.296519  13.306711  13.050915\n",
      " 12.362951  13.432433  14.114648  11.288405  10.507323   9.806893\n",
      " 12.605952  15.675583  21.375357  20.771349  22.376839  19.116827\n",
      " 20.609882  21.395037  23.882616  23.908033  28.732506  26.761358\n",
      " 30.202576  24.275759  16.417149  12.847258  12.343282  12.088\n",
      " 11.862038   9.788356   8.400874   8.338888   8.106079   8.48748\n",
      "  7.8617806  6.36585    5.511726   5.318464   4.698974   4.6360946\n",
      "  5.13716    6.9551616  8.194558   7.643766   7.6779914  8.663094\n",
      "  8.595032   9.114217  11.097078  12.496618  15.551716  15.555324\n",
      " 16.525846  16.43628   21.89869   26.426888  31.710472  32.49755\n",
      " 31.79518   28.305824  31.628199  28.23193   28.753574  19.551117\n",
      " 17.023485  17.435032  16.36237   16.893488  17.89169   18.4254\n",
      " 21.272163  23.637705  30.58554   27.92588   24.58846   15.556498\n",
      " 15.559529  15.339236  15.286538  10.832103   9.38582    7.9210773\n",
      "  7.595736  11.559219  13.595103  15.706013  16.642317  14.77165\n",
      " 13.543785  11.384954  11.2446995 11.6047125 11.956832  11.874916\n",
      " 14.477616  17.815159  17.029955  15.266526  16.772299  16.793343\n",
      " 17.826649  19.279549  21.028822  19.39767   20.931488  22.75991\n",
      " 25.883368  27.475454  29.129187  31.955217  35.303093  37.11776\n",
      " 32.69594   31.945925  30.315268  30.91138   31.977783  30.198313\n",
      " 29.692924  30.265526  28.441248  24.844118  25.614456  26.898165\n",
      " 25.70238   26.284813  26.543634  25.566425  26.18896   27.3075\n",
      " 27.724241  29.840582  34.194706  30.708563  28.066927  27.09816\n",
      " 26.166428  23.706593  26.682175  34.19123   33.992332  31.786503\n",
      " 34.52745  ]\n"
     ]
    }
   ],
   "source": [
    "predicted_price = regressor.predict(test_X)\n",
    "predicted_price_array = np.repeat(predicted_price,19,axis=-1)\n",
    "pred = sc.inverse_transform(np.reshape(predicted_price_array,(len(predicted_price),19)))[:,18]\n",
    "print(pred)"
   ]
  },
  {
   "cell_type": "code",
   "execution_count": 9,
   "metadata": {},
   "outputs": [],
   "source": [
    "real_price_array = np.repeat(test_y,19,axis=-1)\n",
    "real = sc.inverse_transform(np.reshape(real_price_array,(len(test_y),19)))[:,18]"
   ]
  },
  {
   "cell_type": "code",
   "execution_count": 11,
   "metadata": {},
   "outputs": [
    {
     "name": "stdout",
     "output_type": "stream",
     "text": [
      "[ 8.6  8.5  7.8  7.6  7.7  7.8  7.4  8.1  7.5  7.5  7.3  8.6  8.7  8.6\n",
      "  8.7  8.7  9.4  8.7  9.4  9.4  8.4  7.7  7.7  7.8  7.7  8.5 11.1 13.8\n",
      "  9.2 10.9 11.9  9.4  9.3  9.6  9.4 11.9 10.7 10.2 10.8 10.9 10.8  9.2\n",
      " 11.6 12.2 13.7 13.9 12.  11.6 11.1 10.7 11.3 13.9 14.5 10.7 10.6 12.3\n",
      " 11.6 11.2 11.4 12.4 13.4 14.5 14.7 14.9 14.5 14.8 15.9 14.8 15.6 16.4\n",
      " 17.8 18.7 16.7 16.2 17.8 18.5 18.7 17.4 16.6 14.8 15.7 15.1 16.2 20.3\n",
      " 20.2 17.5 18.  24.9 25.3 28.7 26.  28.6 29.7 29.  29.  36.1 38.9 40.\n",
      " 37.7 32.  31.1 32.9 32.4 24.6 28.2 28.  26.4 23.  24.3 27.1 25.4 24.5\n",
      " 25.5 22.  21.1 21.  22.2 25.6 24.7 26.6 22.9 25.5 26.2 23.5 23.2 26.7\n",
      " 23.6 26.7 28.7 33.2 29.9 30.7 27.6 31.6 37.8 35.  31.3 30.4 31.1 32.7\n",
      " 33.5 31.  35.4 36.9 38.9 41.5 35.8 35.2 30.5 33.9 30.6 39.9 49.4 36.4\n",
      " 29.7 30.7 31.9 36.2 31.5 35.3 31.7 26.9 24.6 33.5 31.5 30.2 30.4 30.6\n",
      " 26.8 28.  27.4 37.  30.2 28.  32.3 35.7 31.7 29.5 29.  31.3 33.5 35.\n",
      " 33.6 27.9 32.9 36.3 40.7 39.6 39.1 37.7 38.1 37.5 43.2 38.2 33.4 29.8\n",
      " 31.5 36.5 31.4 32.8 31.2 29.6 31.6 28.9 29.8 29.4 26.7 31.7 26.  27.2\n",
      " 21.  17.1 17.6 16.3 15.5 15.4 15.5 18.3 16.4 14.2 16.1 17.7 18.4 16.4\n",
      " 15.8 16.5 16.6 17.1 19.8 18.6 16.  17.8 17.6 18.2 18.8 20.3 20.6 20.4\n",
      " 21.8 25.  27.8 27.6 25.  24.  25.7 24.4 24.7 25.2 24.3 27.5 27.2 25.1\n",
      " 27.9 23.7 26.3 28.7 28.7 28.6 31.7 33.3 40.  33.9 33.4 27.9 24.7 23.8\n",
      " 21.2 16.8 15.4 18.4 18.  16.8 14.  12.1 12.3 12.2 10.8  9.9 10.1  8.7\n",
      "  8.4  7.   6.5 11.5  6.7  6.   5.3  6.4  5.5  5.4  4.9  4.7  5.6  7.3\n",
      "  5.3  5.8  5.8  5.5  5.6  5.7  6.1  6.1  6.1  5.7  5.8  6.6  6.1  6.\n",
      "  5.6  5.7  6.3  5.9  5.8  6.   5.9  5.9  5.8  5.4  6.   5.6  6.  10.4\n",
      "  9.5 10.1  8.2  8.3  8.4  8.6  8.9 10.2 11.4 12.4 11.7 10.6 10.8 10.6\n",
      " 10.7 10.3 11.  10.8 13.5 11.4 10.7 11.1 11.9 12.5 11.5 11.  10.8 11.4\n",
      " 11.5 10.8 11.  10.6 10.4 11.4 13.  31.9 22.  14.6 12.1 13.1 25.6 27.3\n",
      " 22.4 18.2 18.2 23.  21.2 20.  20.2 23.  21.3 18.7 18.3 15.  16.6 17.6\n",
      " 18.9 14.8 15.2 21.  15.1 15.1 15.5 17.6 21.3 16.8 16.9 21.7 21.5 26.7\n",
      " 21.9 21.6 22.4 22.8 24.5 33.1 34.  30.  27.9 32.1 33.7 33.5 44.2 44.7\n",
      " 44.9 44.4 45.6 54.4 57.8 46.4 41.6 44.2 51.7 50.4 45.  40.  43.  44.6\n",
      " 41.  47.4 52.6 53.5 43.8 45.  48.5 46.1 40.5 40.6 39.4 43.6 56.2 46.3\n",
      " 51.6 57.3 60.  62.5 61.2 45.4 49.9 48.7 50.7 52.6 60.8 58.4 58.4 61.1\n",
      " 65.3 61.8 66.8 61.2 66.4 50.7 52.6 46.5 52.  45.6 38.6 31.8 32.8 32.6\n",
      " 31.9 30.2 35.  31.  29.6 24.9 23.8 21.9 24.6 27.8 25.2 22.4 22.8 23.5\n",
      " 28.  30.3 33.6 34.4 30.8 31.1 30.  33.9 26.3 24.5 23.5 26.4 29.4 26.4\n",
      " 31.5 27.  27.9 29.2 21.8 22.  21.  20.7 25.6 24.3 24.  24.9 23.5 21.7\n",
      " 18.4 19.  20.4 22.3 20.4 17.4 16.5 16.7 12.8 11.4 12.2 14.2 14.2 13.4\n",
      " 14.3 15.2 15.9 14.1 11.8 12.7 16.6 19.6 17.5 16.9 15.2 13.4 10.3  9.3\n",
      " 10.5 10.6  9.4 11.9 11.5 10.6 11.  10.9  9.6 10.   9.5 12.1 12.4 12.4\n",
      " 11.3 10.2 10.3 10.7  9.8 10.5 10.5 12.1 11.9 11.8 11.6 10.2  9.6  8.9\n",
      "  8.6  9.8  9.1  9.9 11.3 12.  10.7 10.6 11.  13.5  6.6 11.3 14.  15.5\n",
      " 13.8 12.5 12.2 13.  13.8 12.8 14.5 17.1 21.1 18.4 21.  21.4 21.1 19.\n",
      " 18.6 17.2 14.7 16.5 14.6 13.7 18.1 18.5 18.3 18.6 22.2 19.4 18.8 19.6\n",
      " 25.6 22.9 20.3 19.3 19.4 22.6 21.2 19.5 16.2 20.3 19.9 19.5 17.2 16.5\n",
      " 20.2 28.1 28.9 30.  36.  37.5 34.4 37.5 31.5 36.8 37.4 43.  38.4 40.\n",
      " 44.7 47.5 42.6 38.7 26.4 26.6 34.5 29.7 28.8 34.2 38.6 39.3 35.4 29.3\n",
      " 29.  34.3 28.5 20.3 14.3 13.9 15.1 22.3 23.8 25.1 20.3 20.  19.  19.5\n",
      " 15.4 12.1 13.2 18.3 21.4 21.9 20.2 19.2 23.5 20.5 19.  21.4 22.1 20.8\n",
      " 20.2 24.  23.4 24.5 23.3 22.1 22.3 25.6 26.5 32.1 31.3 33.5 29.9 33.2\n",
      " 35.8 42.8 43.  40.7 34.4 33.6 35.4 34.8 28.1 28.  26.8 31.  26.4 25.2\n",
      " 31.  31.4 30.9 30.  30.3 30.7 27.6 25.6 25.1 30.8 27.1 26.5 29.1 33.2\n",
      " 37.2]\n"
     ]
    }
   ],
   "source": [
    "print(real)"
   ]
  },
  {
   "cell_type": "code",
   "execution_count": null,
   "metadata": {},
   "outputs": [],
   "source": []
  },
  {
   "cell_type": "code",
   "execution_count": 10,
   "metadata": {},
   "outputs": [
    {
     "data": {
      "image/png": "[encoded data removed]",
      "text/plain": [
       "<Figure size 640x480 with 1 Axes>"
      ]
     },
     "metadata": {},
     "output_type": "display_data"
    }
   ],
   "source": [
    "# Visualising the results\n",
    "plt.plot(real, color = 'red', label = 'Real Price')  # 紅線表示真實股價\n",
    "plt.plot(pred, color = 'blue', label = 'Predicted Price')  # 藍線表示預測股價\n",
    "plt.title('Price Prediction')\n",
    "plt.xlabel('Time')\n",
    "plt.ylabel('Real Price')\n",
    "plt.legend()\n",
    "plt.show()"
   ]
  },
  {
   "cell_type": "code",
   "execution_count": null,
   "metadata": {},
   "outputs": [],
   "source": []
  }
 ],
 "metadata": {
  "kernelspec": {
   "display_name": "Python 3.10.5 ('ox')",
   "language": "python",
   "name": "python3"
  },
  "language_info": {
   "codemirror_mode": {
    "name": "ipython",
    "version": 3
   },
   "file_extension": ".py",
   "mimetype": "text/x-python",
   "name": "python",
   "nbconvert_exporter": "python",
   "pygments_lexer": "ipython3",
   "version": "3.10.5"
  },
  "orig_nbformat": 4,
  "vscode": {
   "interpreter": {
    "hash": "a4e443fd1ca7fd3350a7a0b185f6306b13e34ba6181eeb3fd780c1d7ec31010d"
   }
  }
 },
 "nbformat": 4,
 "nbformat_minor": 2
}
