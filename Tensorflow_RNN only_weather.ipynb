{
 "cells": [
  {
   "cell_type": "code",
   "execution_count": 1,
   "metadata": {},
   "outputs": [],
   "source": [
    "import numpy as np\n",
    "import matplotlib.pyplot as plt\n",
    "import pandas as pd\n",
    "\n",
    "from sklearn.preprocessing import StandardScaler, MinMaxScaler"
   ]
  },
  {
   "cell_type": "code",
   "execution_count": 2,
   "metadata": {},
   "outputs": [
    {
     "name": "stdout",
     "output_type": "stream",
     "text": [
      "(7038, 19)\n",
      "Index(['Mon', 'Tue', 'Wed', 'Thu', 'Fri', 'Sat', 'Sun', 'pressure',\n",
      "       'temperature', 'humidity', 'windspeed', 'wind_direction',\n",
      "       'maximum_windspeed_x', 'maximum_wind_direction', 'rainfall', 'volume',\n",
      "       'level', 'alarms_count', 'price'],\n",
      "      dtype='object')\n",
      "19\n"
     ]
    }
   ],
   "source": [
    "dataset_train = pd.read_csv('forml.csv')  # 讀取\n",
    "dataset_train.drop(['Unnamed: 0','date','day','month','year','D+1','D+3','D+5','D+7'],axis=1,inplace=True)\n",
    "training_data = dataset_train[:7038]\n",
    "test_data = dataset_train[7038:7768]\n",
    "print(training_data.shape)\n",
    "print(test_data.columns)\n",
    "print(training_data.shape[1])"
   ]
  },
  {
   "cell_type": "code",
   "execution_count": 3,
   "metadata": {},
   "outputs": [
    {
     "name": "stdout",
     "output_type": "stream",
     "text": [
      "-0.8126060181758046\n"
     ]
    }
   ],
   "source": [
    "#sc = MinMaxScaler(feature_range=(0,1))\n",
    "sc = StandardScaler()\n",
    "training_data_sc = sc.fit_transform(training_data)\n",
    "test_data_sc = sc.transform(test_data)\n",
    "print(training_data_sc[1,18])"
   ]
  },
  {
   "cell_type": "code",
   "execution_count": 4,
   "metadata": {},
   "outputs": [],
   "source": [
    "def createXY(dataset, n_past):\n",
    "    X = []\n",
    "    y = []\n",
    "    for i in range(n_past, len(dataset)):\n",
    "        X.append(dataset[i - n_past:i, 0:dataset.shape[1]-1])\n",
    "        y.append(dataset[i,18])\n",
    "    return np.array(X),np.array(y)"
   ]
  },
  {
   "cell_type": "code",
   "execution_count": 5,
   "metadata": {},
   "outputs": [],
   "source": [
    "train_X, train_y = createXY(training_data_sc, 15)\n",
    "test_X, test_y = createXY(test_data_sc,15)"
   ]
  },
  {
   "cell_type": "code",
   "execution_count": 6,
   "metadata": {},
   "outputs": [],
   "source": [
    "%load_ext tensorboard"
   ]
  },
  {
   "cell_type": "code",
   "execution_count": 17,
   "metadata": {},
   "outputs": [
    {
     "name": "stdout",
     "output_type": "stream",
     "text": [
      "Model: \"sequential_1\"\n",
      "_________________________________________________________________\n",
      " Layer (type)                Output Shape              Param #   \n",
      "=================================================================\n",
      " lstm_4 (LSTM)               (None, 15, 50)            13800     \n",
      "                                                                 \n",
      " dropout (Dropout)           (None, 15, 50)            0         \n",
      "                                                                 \n",
      " lstm_5 (LSTM)               (None, 15, 50)            20200     \n",
      "                                                                 \n",
      " dropout_1 (Dropout)         (None, 15, 50)            0         \n",
      "                                                                 \n",
      " lstm_6 (LSTM)               (None, 15, 50)            20200     \n",
      "                                                                 \n",
      " dropout_2 (Dropout)         (None, 15, 50)            0         \n",
      "                                                                 \n",
      " lstm_7 (LSTM)               (None, 50)                20200     \n",
      "                                                                 \n",
      " dropout_3 (Dropout)         (None, 50)                0         \n",
      "                                                                 \n",
      " dense_1 (Dense)             (None, 1)                 51        \n",
      "                                                                 \n",
      "=================================================================\n",
      "Total params: 74,451\n",
      "Trainable params: 74,451\n",
      "Non-trainable params: 0\n",
      "_________________________________________________________________\n"
     ]
    }
   ],
   "source": [
    "# Import the Keras libraries and packages\n",
    "import os, datetime\n",
    "import tensorflow as tf\n",
    "from tensorflow import keras\n",
    "# from tensorflow.keras import layers\n",
    "from keras.models import Sequential\n",
    "from keras.layers import Dense\n",
    "from keras.layers import LSTM\n",
    "from keras.layers import Dropout\n",
    "\n",
    "# Initialising the RNN\n",
    "# regressor = Sequential()\n",
    "model = keras.Sequential()\n",
    "# Adding the first LSTM layer and some Dropout regularisation\n",
    "model.add(LSTM(units = 50, return_sequences = True, input_shape = (15,18)))\n",
    "model.add(Dropout(0.2))\n",
    "\n",
    "# Adding a second LSTM layer and some Dropout regularisation\n",
    "model.add(LSTM(units = 50, return_sequences = True))\n",
    "model.add(Dropout(0.2))\n",
    "\n",
    "# Adding a third LSTM layer and some Dropout regularisation\n",
    "model.add(LSTM(units = 50, return_sequences = True))\n",
    "model.add(Dropout(0.2))\n",
    "\n",
    "# Adding a fourth LSTM layer and some Dropout regularisation\n",
    "model.add(LSTM(units = 50))\n",
    "model.add(Dropout(0.2))\n",
    "\n",
    "# Adding the output layer\n",
    "model.add(Dense(units = 1))\n",
    "\n",
    "logdir = os.path.join('logs', datetime.datetime.now().strftime(\"%Y%m%d-%H%M%S\"))\n",
    "tensorboard_callback = tf.keras.callbacks.TensorBoard(log_dir=logdir, histogram_freq=1)\n",
    "\n",
    "model.summary()"
   ]
  },
  {
   "cell_type": "code",
   "execution_count": 18,
   "metadata": {},
   "outputs": [
    {
     "name": "stdout",
     "output_type": "stream",
     "text": [
      "Epoch 1/75\n",
      "55/55 [==============================] - 8s 35ms/step - loss: 0.8310 - mean_absolute_error: 0.7328\n",
      "Epoch 2/75\n",
      "55/55 [==============================] - 2s 35ms/step - loss: 0.4752 - mean_absolute_error: 0.5280\n",
      "Epoch 3/75\n",
      "55/55 [==============================] - 2s 35ms/step - loss: 0.4153 - mean_absolute_error: 0.4797\n",
      "Epoch 4/75\n",
      "55/55 [==============================] - 2s 34ms/step - loss: 0.3950 - mean_absolute_error: 0.4696\n",
      "Epoch 5/75\n",
      "55/55 [==============================] - 2s 34ms/step - loss: 0.3889 - mean_absolute_error: 0.4635\n",
      "Epoch 6/75\n",
      "55/55 [==============================] - 2s 34ms/step - loss: 0.3800 - mean_absolute_error: 0.4596\n",
      "Epoch 7/75\n",
      "55/55 [==============================] - 2s 36ms/step - loss: 0.3710 - mean_absolute_error: 0.4544\n",
      "Epoch 8/75\n",
      "55/55 [==============================] - 2s 35ms/step - loss: 0.3653 - mean_absolute_error: 0.4509\n",
      "Epoch 9/75\n",
      "55/55 [==============================] - 2s 35ms/step - loss: 0.3602 - mean_absolute_error: 0.4465\n",
      "Epoch 10/75\n",
      "55/55 [==============================] - 2s 35ms/step - loss: 0.3558 - mean_absolute_error: 0.4444\n",
      "Epoch 11/75\n",
      "55/55 [==============================] - 2s 36ms/step - loss: 0.3463 - mean_absolute_error: 0.4379\n",
      "Epoch 12/75\n",
      "55/55 [==============================] - 2s 35ms/step - loss: 0.3428 - mean_absolute_error: 0.4356\n",
      "Epoch 13/75\n",
      "55/55 [==============================] - 2s 35ms/step - loss: 0.3335 - mean_absolute_error: 0.4320\n",
      "Epoch 14/75\n",
      "55/55 [==============================] - 2s 35ms/step - loss: 0.3307 - mean_absolute_error: 0.4283\n",
      "Epoch 15/75\n",
      "55/55 [==============================] - 2s 35ms/step - loss: 0.3246 - mean_absolute_error: 0.4256\n",
      "Epoch 16/75\n",
      "55/55 [==============================] - 2s 35ms/step - loss: 0.3179 - mean_absolute_error: 0.4178\n",
      "Epoch 17/75\n",
      "55/55 [==============================] - 2s 35ms/step - loss: 0.3104 - mean_absolute_error: 0.4164\n",
      "Epoch 18/75\n",
      "55/55 [==============================] - 2s 35ms/step - loss: 0.3071 - mean_absolute_error: 0.4127\n",
      "Epoch 19/75\n",
      "55/55 [==============================] - 2s 36ms/step - loss: 0.3020 - mean_absolute_error: 0.4097\n",
      "Epoch 20/75\n",
      "55/55 [==============================] - 2s 35ms/step - loss: 0.2952 - mean_absolute_error: 0.4060\n",
      "Epoch 21/75\n",
      "55/55 [==============================] - 2s 35ms/step - loss: 0.2906 - mean_absolute_error: 0.4017\n",
      "Epoch 22/75\n",
      "55/55 [==============================] - 2s 35ms/step - loss: 0.2895 - mean_absolute_error: 0.4009\n",
      "Epoch 23/75\n",
      "55/55 [==============================] - 2s 35ms/step - loss: 0.2822 - mean_absolute_error: 0.3979\n",
      "Epoch 24/75\n",
      "55/55 [==============================] - 2s 35ms/step - loss: 0.2754 - mean_absolute_error: 0.3923\n",
      "Epoch 25/75\n",
      "55/55 [==============================] - 2s 36ms/step - loss: 0.2719 - mean_absolute_error: 0.3896\n",
      "Epoch 26/75\n",
      "55/55 [==============================] - 2s 37ms/step - loss: 0.2660 - mean_absolute_error: 0.3871\n",
      "Epoch 27/75\n",
      "55/55 [==============================] - 2s 36ms/step - loss: 0.2646 - mean_absolute_error: 0.3853\n",
      "Epoch 28/75\n",
      "55/55 [==============================] - 2s 35ms/step - loss: 0.2634 - mean_absolute_error: 0.3849\n",
      "Epoch 29/75\n",
      "55/55 [==============================] - 2s 35ms/step - loss: 0.2567 - mean_absolute_error: 0.3816\n",
      "Epoch 30/75\n",
      "55/55 [==============================] - 2s 35ms/step - loss: 0.2506 - mean_absolute_error: 0.3762\n",
      "Epoch 31/75\n",
      "55/55 [==============================] - 2s 35ms/step - loss: 0.2537 - mean_absolute_error: 0.3780\n",
      "Epoch 32/75\n",
      "55/55 [==============================] - 2s 37ms/step - loss: 0.2431 - mean_absolute_error: 0.3707\n",
      "Epoch 33/75\n",
      "55/55 [==============================] - 2s 36ms/step - loss: 0.2399 - mean_absolute_error: 0.3689\n",
      "Epoch 34/75\n",
      "55/55 [==============================] - 2s 37ms/step - loss: 0.2368 - mean_absolute_error: 0.3664\n",
      "Epoch 35/75\n",
      "55/55 [==============================] - 2s 38ms/step - loss: 0.2386 - mean_absolute_error: 0.3665\n",
      "Epoch 36/75\n",
      "55/55 [==============================] - 2s 37ms/step - loss: 0.2334 - mean_absolute_error: 0.3624\n",
      "Epoch 37/75\n",
      "55/55 [==============================] - 2s 35ms/step - loss: 0.2301 - mean_absolute_error: 0.3606\n",
      "Epoch 38/75\n",
      "55/55 [==============================] - 2s 35ms/step - loss: 0.2289 - mean_absolute_error: 0.3599\n",
      "Epoch 39/75\n",
      "55/55 [==============================] - 2s 35ms/step - loss: 0.2217 - mean_absolute_error: 0.3556\n",
      "Epoch 40/75\n",
      "55/55 [==============================] - 2s 35ms/step - loss: 0.2190 - mean_absolute_error: 0.3530\n",
      "Epoch 41/75\n",
      "55/55 [==============================] - 2s 35ms/step - loss: 0.2215 - mean_absolute_error: 0.3530\n",
      "Epoch 42/75\n",
      "55/55 [==============================] - 2s 37ms/step - loss: 0.2132 - mean_absolute_error: 0.3488\n",
      "Epoch 43/75\n",
      "55/55 [==============================] - 2s 37ms/step - loss: 0.2147 - mean_absolute_error: 0.3489\n",
      "Epoch 44/75\n",
      "55/55 [==============================] - 2s 36ms/step - loss: 0.2121 - mean_absolute_error: 0.3476\n",
      "Epoch 45/75\n",
      "55/55 [==============================] - 2s 36ms/step - loss: 0.2039 - mean_absolute_error: 0.3406\n",
      "Epoch 46/75\n",
      "55/55 [==============================] - 2s 37ms/step - loss: 0.2109 - mean_absolute_error: 0.3459\n",
      "Epoch 47/75\n",
      "55/55 [==============================] - 2s 36ms/step - loss: 0.2050 - mean_absolute_error: 0.3414\n",
      "Epoch 48/75\n",
      "55/55 [==============================] - 2s 35ms/step - loss: 0.2052 - mean_absolute_error: 0.3410\n",
      "Epoch 49/75\n",
      "55/55 [==============================] - 2s 35ms/step - loss: 0.2029 - mean_absolute_error: 0.3390\n",
      "Epoch 50/75\n",
      "55/55 [==============================] - 2s 36ms/step - loss: 0.2001 - mean_absolute_error: 0.3355\n",
      "Epoch 51/75\n",
      "55/55 [==============================] - 2s 35ms/step - loss: 0.1997 - mean_absolute_error: 0.3347\n",
      "Epoch 52/75\n",
      "55/55 [==============================] - 2s 36ms/step - loss: 0.2016 - mean_absolute_error: 0.3384\n",
      "Epoch 53/75\n",
      "55/55 [==============================] - 2s 36ms/step - loss: 0.1952 - mean_absolute_error: 0.3318\n",
      "Epoch 54/75\n",
      "55/55 [==============================] - 2s 35ms/step - loss: 0.1945 - mean_absolute_error: 0.3321\n",
      "Epoch 55/75\n",
      "55/55 [==============================] - 2s 35ms/step - loss: 0.1927 - mean_absolute_error: 0.3302\n",
      "Epoch 56/75\n",
      "55/55 [==============================] - 2s 36ms/step - loss: 0.1903 - mean_absolute_error: 0.3300\n",
      "Epoch 57/75\n",
      "55/55 [==============================] - 2s 35ms/step - loss: 0.1890 - mean_absolute_error: 0.3270\n",
      "Epoch 58/75\n",
      "55/55 [==============================] - 2s 36ms/step - loss: 0.1869 - mean_absolute_error: 0.3257\n",
      "Epoch 59/75\n",
      "55/55 [==============================] - 2s 36ms/step - loss: 0.1852 - mean_absolute_error: 0.3256\n",
      "Epoch 60/75\n",
      "55/55 [==============================] - 2s 37ms/step - loss: 0.1844 - mean_absolute_error: 0.3231\n",
      "Epoch 61/75\n",
      "55/55 [==============================] - 2s 36ms/step - loss: 0.1822 - mean_absolute_error: 0.3200\n",
      "Epoch 62/75\n",
      "55/55 [==============================] - 2s 35ms/step - loss: 0.1792 - mean_absolute_error: 0.3183\n",
      "Epoch 63/75\n",
      "55/55 [==============================] - 2s 35ms/step - loss: 0.1818 - mean_absolute_error: 0.3225\n",
      "Epoch 64/75\n",
      "55/55 [==============================] - 2s 36ms/step - loss: 0.1801 - mean_absolute_error: 0.3205\n",
      "Epoch 65/75\n",
      "55/55 [==============================] - 2s 36ms/step - loss: 0.1788 - mean_absolute_error: 0.3197\n",
      "Epoch 66/75\n",
      "55/55 [==============================] - 2s 36ms/step - loss: 0.1739 - mean_absolute_error: 0.3148\n",
      "Epoch 67/75\n",
      "55/55 [==============================] - 2s 36ms/step - loss: 0.1764 - mean_absolute_error: 0.3159\n",
      "Epoch 68/75\n",
      "55/55 [==============================] - 2s 37ms/step - loss: 0.1731 - mean_absolute_error: 0.3132\n",
      "Epoch 69/75\n",
      "55/55 [==============================] - 2s 36ms/step - loss: 0.1724 - mean_absolute_error: 0.3131\n",
      "Epoch 70/75\n",
      "55/55 [==============================] - 2s 35ms/step - loss: 0.1730 - mean_absolute_error: 0.3143\n",
      "Epoch 71/75\n",
      "55/55 [==============================] - 2s 35ms/step - loss: 0.1678 - mean_absolute_error: 0.3083\n",
      "Epoch 72/75\n",
      "55/55 [==============================] - 2s 36ms/step - loss: 0.1674 - mean_absolute_error: 0.3063\n",
      "Epoch 73/75\n",
      "55/55 [==============================] - 2s 36ms/step - loss: 0.1654 - mean_absolute_error: 0.3063\n",
      "Epoch 74/75\n",
      "55/55 [==============================] - 2s 35ms/step - loss: 0.1653 - mean_absolute_error: 0.3076\n",
      "Epoch 75/75\n",
      "55/55 [==============================] - 2s 36ms/step - loss: 0.1640 - mean_absolute_error: 0.3054\n"
     ]
    },
    {
     "data": {
      "text/plain": [
       "<keras.callbacks.History at 0x200b3c0b0d0>"
      ]
     },
     "execution_count": 18,
     "metadata": {},
     "output_type": "execute_result"
    }
   ],
   "source": [
    "# Compiling\n",
    "model.compile(keras.optimizers.Adam(0.0001),\n",
    "    loss=keras.losses.MeanSquaredError(),\n",
    "    metrics=[keras.metrics.MeanAbsoluteError()])\n",
    "\n",
    "# 進行訓練\n",
    "model.fit(train_X, train_y, epochs = 75, batch_size = 128, callbacks=[tensorboard_callback])"
   ]
  },
  {
   "cell_type": "code",
   "execution_count": 19,
   "metadata": {},
   "outputs": [
    {
     "data": {
      "text/plain": [
       "Reusing TensorBoard on port 6006 (pid 20452), started 0:08:30 ago. (Use '!kill 20452' to kill it.)"
      ]
     },
     "metadata": {},
     "output_type": "display_data"
    },
    {
     "data": {
      "text/html": [
       "\n",
       "      <iframe id=\"tensorboard-frame-829c3131ac6b7b0e\" width=\"100%\" height=\"800\" frameborder=\"0\">\n",
       "      </iframe>\n",
       "      <script>\n",
       "        (function() {\n",
       "          const frame = document.getElementById(\"tensorboard-frame-829c3131ac6b7b0e\");\n",
       "          const url = new URL(\"http://localhost\");\n",
       "          const port = 6006;\n",
       "          if (port) {\n",
       "            url.port = port;\n",
       "          }\n",
       "          frame.src = url;\n",
       "        })();\n",
       "      </script>\n",
       "    "
      ],
      "text/plain": [
       "<IPython.core.display.HTML object>"
      ]
     },
     "metadata": {},
     "output_type": "display_data"
    }
   ],
   "source": [
    "%tensorboard --logdir='logs' --host=127.0.0.1"
   ]
  },
  {
   "cell_type": "code",
   "execution_count": 20,
   "metadata": {},
   "outputs": [
    {
     "name": "stdout",
     "output_type": "stream",
     "text": [
      "23/23 [==============================] - 1s 6ms/step\n",
      "[14.134253  13.417299  12.367803  10.498411   8.357063   7.6038632\n",
      "  7.375462   7.98231    7.312509   6.9568467  7.465406   7.8502383\n",
      "  8.233225   9.20676    9.941511   9.871764  10.542061  11.718175\n",
      " 11.623833  11.951698  12.381338  11.735298  11.15987   10.487468\n",
      " 10.341608   9.611783   8.365199   7.571979   9.275413  10.54154\n",
      " 11.015468  10.930702  12.312293  11.633844  11.3777685 11.868926\n",
      " 12.292428  11.665109  10.081723   9.119338   9.011671   9.897391\n",
      "  9.692758   9.2892475  8.793858   8.687642   8.746559   8.6639385\n",
      "  8.901969   8.429349   7.4382186  8.484939   9.516062  11.15337\n",
      " 12.8926115 14.1802435 14.397     15.1583    17.47294   18.404493\n",
      " 17.357965  17.264313  15.145516  15.2948265 15.294424  15.559421\n",
      " 16.551868  17.274496  16.397993  17.351562  18.151443  18.88824\n",
      " 20.638998  23.040432  24.103958  25.95465   28.526703  30.59033\n",
      " 32.351284  32.953625  33.104588  32.981083  32.10055   29.987293\n",
      " 24.117775  21.458422  19.884256  19.478033  17.706854  16.257298\n",
      " 15.509075  16.557053  16.764774  17.82235   18.951826  20.977377\n",
      " 23.188015  25.844315  26.737034  27.887632  28.71236   29.269886\n",
      " 29.333744  29.684406  28.8098    27.574001  25.671     24.374353\n",
      " 23.525036  23.302242  23.190811  23.396923  22.99561   23.242603\n",
      " 23.365936  23.383612  22.611229  21.827484  21.37966   21.665276\n",
      " 21.811539  22.055658  21.574162  21.339085  22.372013  24.542269\n",
      " 26.015768  26.721422  25.545837  25.301926  26.307608  26.269941\n",
      " 27.163467  28.031212  28.770138  31.066708  32.555283  34.040413\n",
      " 34.83247   35.044067  33.782227  33.92945   33.63491   33.253464\n",
      " 32.87809   33.434002  33.85156   35.084366  36.408813  37.86023\n",
      " 37.534405  36.770313  36.524433  36.014416  36.585415  36.74691\n",
      " 36.622414  35.952606  34.97076   33.516464  33.37667   33.72862\n",
      " 33.461864  32.403297  30.871809  30.500813  30.627209  29.646288\n",
      " 28.346533  29.755331  32.583164  33.221306  33.746544  33.203854\n",
      " 32.713165  32.02159   31.551798  31.455786  31.259079  28.501312\n",
      " 24.979038  22.5902    22.186934  22.388062  23.152483  22.31183\n",
      " 20.99113   22.513227  24.495123  29.216776  32.092606  34.556355\n",
      " 35.356674  36.989292  36.9898    36.2168    32.635952  30.958303\n",
      " 28.737112  28.905457  28.779633  27.933153  24.436567  21.624125\n",
      " 20.18432   20.94498   21.598576  21.474564  20.567633  20.300737\n",
      " 19.652674  18.350035  15.498002  13.376315  11.97749   11.066478\n",
      "  9.954401   9.990587   9.8248825  8.721135   8.992081   9.472894\n",
      "  9.80564   10.923006  10.9030285 11.082922  11.353485  11.751238\n",
      " 13.482308  15.49792   17.493538  17.993004  17.180012  15.852794\n",
      " 14.729223  13.307853  12.303719  11.362191  11.1810875 10.620781\n",
      " 11.742256  12.948027  14.976854  16.538683  18.16774   17.574451\n",
      " 17.545824  17.464872  18.39937   18.364517  19.839516  19.381586\n",
      " 19.998446  19.919949  20.774433  17.790937  16.17614   16.117487\n",
      " 16.823568  17.182402  18.008932  17.452581  14.865513  13.452968\n",
      " 13.177271  12.7527895 12.749852  12.403259  12.142469  12.260764\n",
      " 13.467422  15.067144  16.997967  18.136454  18.216475  17.867876\n",
      " 19.13775   21.620682  17.124533  11.8130455 10.622289  10.1056185\n",
      "  9.497485   8.624739   7.957312   7.407367   7.2713227  6.8657756\n",
      "  6.46057    5.665357   5.33096    5.1279683  4.6823525  4.397718\n",
      "  4.34703    4.534199   4.615171   4.9803624  5.0957665  5.3031106\n",
      "  5.7602773  5.789621   5.729712   5.881681   6.715155   6.8056245\n",
      "  7.9605613  9.291677  10.53285   11.252725  10.051057  10.265223\n",
      " 10.828888  10.920066  10.124584   9.563965   9.045754   9.015586\n",
      "  9.418355   9.080369   8.747842   8.331122   9.426816   9.972206\n",
      " 10.62824   11.263321  11.2208185 10.099828   9.6419735 10.183774\n",
      " 11.27314   13.562954  13.660311  13.798037  13.541242  12.669759\n",
      " 12.225818  12.724882  13.159569  14.185865  14.464732  14.580995\n",
      " 14.596476  15.649762  16.545172  17.949808  18.087269  17.75121\n",
      " 16.393936  15.507153  16.011564  16.93486   16.215485  15.50428\n",
      " 15.00531   12.87365   13.977631  14.298393  11.471018  14.2448845\n",
      " 17.85776   18.200226  18.826332  18.434837  18.563957  19.358438\n",
      " 19.919548  19.820295  20.405737  20.272797  19.592733  19.306246\n",
      " 19.67716   19.200119  18.685993  18.19915   18.497349  18.863852\n",
      " 19.962133  20.909756  22.048948  22.631937  24.309679  25.611319\n",
      " 26.399145  23.743837  23.205957  23.501534  22.72158   20.983463\n",
      " 19.099972  19.431513  19.08258   20.157349  21.440674  22.970104\n",
      " 24.894064  28.79042   31.314651  32.731968  34.41965   35.130993\n",
      " 34.09922   33.138474  32.32374   30.972128  30.926249  31.430159\n",
      " 31.991352  31.993103  31.881886  31.870792  33.04879   33.787483\n",
      " 34.200645  34.12111   34.11755   34.323975  34.25493   33.907486\n",
      " 33.481915  32.610706  31.585865  31.187918  31.677593  32.415867\n",
      " 32.55245   33.22408   34.463783  36.18796   38.285927  39.865627\n",
      " 40.960686  42.148453  42.934185  43.272648  43.70024   44.515114\n",
      " 44.58608   44.267952  43.34799   42.919647  42.6552    42.608654\n",
      " 42.149918  41.01698   39.86168   39.09565   39.087276  38.7952\n",
      " 38.803543  37.48064   37.55764   38.388336  38.845314  38.831444\n",
      " 37.95842   37.688305  37.592846  37.74805   37.64469   37.656853\n",
      " 37.19281   36.88999   36.414165  36.062046  35.752724  35.32395\n",
      " 35.445965  35.31797   35.67114   34.494423  34.82749   34.044895\n",
      " 30.895653  29.354542  28.829292  30.09785   30.450607  29.068521\n",
      " 28.07372   28.985767  29.484104  32.005917  33.901173  35.151173\n",
      " 35.936638  36.639053  36.319622  37.410927  36.700615  36.024235\n",
      " 35.022133  35.802437  33.093037  35.426285  29.931631  23.828438\n",
      " 18.090591  18.699053  20.258282  20.201063  19.272055  16.35578\n",
      " 14.766773  14.7049465 15.605967  14.982018  14.563024  15.544984\n",
      " 15.079051  16.060879  18.112091  16.824602  14.18966   12.610388\n",
      " 12.68405   11.881334  11.679895  11.465334   9.980324  10.374693\n",
      " 11.249734  12.297169  11.359858  10.511747   9.91451    9.784281\n",
      "  9.362885   9.965106  10.489156  11.24606   11.824621  12.011155\n",
      " 13.140945  13.952862  15.005318  16.424183  17.679995  17.033827\n",
      " 15.659346  15.9135    17.553438  18.84895   17.824308  18.099028\n",
      " 20.523962  23.387     23.766214  23.323748  26.922516  24.202724\n",
      " 25.33342   25.504986  25.573908  22.549906  16.321133  13.8125725\n",
      " 12.879656  11.75511   11.588804  10.930586  10.910624  11.2882\n",
      " 12.993718  13.849877  15.440859  15.845399  15.03557   12.702404\n",
      " 11.496565  10.969337  11.383976  13.168214  14.430417  17.551247\n",
      " 18.206669  16.614431  13.195633  12.342211  12.41038   13.498717\n",
      " 15.77353   18.467428  19.16007   17.745054  20.481106  17.323812\n",
      " 18.3595    18.678513  20.944632  18.958675  17.510414  15.996897\n",
      " 15.368529  16.349352  14.580635  11.791077  11.033692  11.113698\n",
      " 10.270396   9.654675   9.650119   9.038968   9.965178  10.068826\n",
      " 10.14016   11.045844  11.091419  10.639986  10.633707  10.784601\n",
      " 11.013799  11.581638  12.429666  11.823533  11.695872  11.129196\n",
      " 11.972372  12.914737  15.223922  16.924105  17.60168   16.97765\n",
      " 17.109941  16.784975  16.363749  18.581135  24.109064  29.928198\n",
      " 33.657223  28.605476  22.240213  29.11234   27.123539  26.61684\n",
      " 28.632935  30.862019  30.465271  29.155548  31.716764  35.86529\n",
      " 38.032867  40.003605  39.065437  39.357845  36.316418  33.13043\n",
      " 29.356417  24.138102  20.559587  16.737297  14.048427  13.7623825\n",
      " 15.477683  17.30232   17.33538   18.73118   18.449284  18.504473\n",
      " 20.811731  21.661026  23.450642  25.165989  25.298243  25.584223\n",
      " 26.074373  26.660686  28.20449   30.157503  30.501629  31.138723\n",
      " 31.05013   30.21025   27.486124  26.242714  22.825993  24.687346\n",
      " 26.888927  28.236431  30.097939  32.35933   33.079975  34.18497\n",
      " 33.174145  31.59166   31.741968  31.878662  32.85892   31.73647\n",
      " 32.53304   31.43456   30.149553  29.110788  29.68628   30.382498\n",
      " 31.676846  32.73967   33.924763  34.11615   34.024647  34.75959\n",
      " 35.33057   35.749203  36.142876  35.278553  34.18039   32.574646\n",
      " 31.699562  30.72637   29.407639  29.02955   29.372057  29.64807\n",
      " 29.918514 ]\n"
     ]
    }
   ],
   "source": [
    "predicted_price = model.predict(test_X)\n",
    "predicted_price_array = np.repeat(predicted_price,19,axis=-1)\n",
    "pred = sc.inverse_transform(np.reshape(predicted_price_array,(len(predicted_price),19)))[:,18]\n",
    "print(pred)"
   ]
  },
  {
   "cell_type": "code",
   "execution_count": 21,
   "metadata": {},
   "outputs": [],
   "source": [
    "real_price_array = np.repeat(test_y,19,axis=-1)\n",
    "real = sc.inverse_transform(np.reshape(real_price_array,(len(test_y),19)))[:,18]"
   ]
  },
  {
   "cell_type": "code",
   "execution_count": 22,
   "metadata": {},
   "outputs": [
    {
     "name": "stdout",
     "output_type": "stream",
     "text": [
      "[ 8.6  8.5  7.8  7.6  7.7  7.8  7.4  8.1  7.5  7.5  7.3  8.6  8.7  8.6\n",
      "  8.7  8.7  9.4  8.7  9.4  9.4  8.4  7.7  7.7  7.8  7.7  8.5 11.1 13.8\n",
      "  9.2 10.9 11.9  9.4  9.3  9.6  9.4 11.9 10.7 10.2 10.8 10.9 10.8  9.2\n",
      " 11.6 12.2 13.7 13.9 12.  11.6 11.1 10.7 11.3 13.9 14.5 10.7 10.6 12.3\n",
      " 11.6 11.2 11.4 12.4 13.4 14.5 14.7 14.9 14.5 14.8 15.9 14.8 15.6 16.4\n",
      " 17.8 18.7 16.7 16.2 17.8 18.5 18.7 17.4 16.6 14.8 15.7 15.1 16.2 20.3\n",
      " 20.2 17.5 18.  24.9 25.3 28.7 26.  28.6 29.7 29.  29.  36.1 38.9 40.\n",
      " 37.7 32.  31.1 32.9 32.4 24.6 28.2 28.  26.4 23.  24.3 27.1 25.4 24.5\n",
      " 25.5 22.  21.1 21.  22.2 25.6 24.7 26.6 22.9 25.5 26.2 23.5 23.2 26.7\n",
      " 23.6 26.7 28.7 33.2 29.9 30.7 27.6 31.6 37.8 35.  31.3 30.4 31.1 32.7\n",
      " 33.5 31.  35.4 36.9 38.9 41.5 35.8 35.2 30.5 33.9 30.6 39.9 49.4 36.4\n",
      " 29.7 30.7 31.9 36.2 31.5 35.3 31.7 26.9 24.6 33.5 31.5 30.2 30.4 30.6\n",
      " 26.8 28.  27.4 37.  30.2 28.  32.3 35.7 31.7 29.5 29.  31.3 33.5 35.\n",
      " 33.6 27.9 32.9 36.3 40.7 39.6 39.1 37.7 38.1 37.5 43.2 38.2 33.4 29.8\n",
      " 31.5 36.5 31.4 32.8 31.2 29.6 31.6 28.9 29.8 29.4 26.7 31.7 26.  27.2\n",
      " 21.  17.1 17.6 16.3 15.5 15.4 15.5 18.3 16.4 14.2 16.1 17.7 18.4 16.4\n",
      " 15.8 16.5 16.6 17.1 19.8 18.6 16.  17.8 17.6 18.2 18.8 20.3 20.6 20.4\n",
      " 21.8 25.  27.8 27.6 25.  24.  25.7 24.4 24.7 25.2 24.3 27.5 27.2 25.1\n",
      " 27.9 23.7 26.3 28.7 28.7 28.6 31.7 33.3 40.  33.9 33.4 27.9 24.7 23.8\n",
      " 21.2 16.8 15.4 18.4 18.  16.8 14.  12.1 12.3 12.2 10.8  9.9 10.1  8.7\n",
      "  8.4  7.   6.5 11.5  6.7  6.   5.3  6.4  5.5  5.4  4.9  4.7  5.6  7.3\n",
      "  5.3  5.8  5.8  5.5  5.6  5.7  6.1  6.1  6.1  5.7  5.8  6.6  6.1  6.\n",
      "  5.6  5.7  6.3  5.9  5.8  6.   5.9  5.9  5.8  5.4  6.   5.6  6.  10.4\n",
      "  9.5 10.1  8.2  8.3  8.4  8.6  8.9 10.2 11.4 12.4 11.7 10.6 10.8 10.6\n",
      " 10.7 10.3 11.  10.8 13.5 11.4 10.7 11.1 11.9 12.5 11.5 11.  10.8 11.4\n",
      " 11.5 10.8 11.  10.6 10.4 11.4 13.  31.9 22.  14.6 12.1 13.1 25.6 27.3\n",
      " 22.4 18.2 18.2 23.  21.2 20.  20.2 23.  21.3 18.7 18.3 15.  16.6 17.6\n",
      " 18.9 14.8 15.2 21.  15.1 15.1 15.5 17.6 21.3 16.8 16.9 21.7 21.5 26.7\n",
      " 21.9 21.6 22.4 22.8 24.5 33.1 34.  30.  27.9 32.1 33.7 33.5 44.2 44.7\n",
      " 44.9 44.4 45.6 54.4 57.8 46.4 41.6 44.2 51.7 50.4 45.  40.  43.  44.6\n",
      " 41.  47.4 52.6 53.5 43.8 45.  48.5 46.1 40.5 40.6 39.4 43.6 56.2 46.3\n",
      " 51.6 57.3 60.  62.5 61.2 45.4 49.9 48.7 50.7 52.6 60.8 58.4 58.4 61.1\n",
      " 65.3 61.8 66.8 61.2 66.4 50.7 52.6 46.5 52.  45.6 38.6 31.8 32.8 32.6\n",
      " 31.9 30.2 35.  31.  29.6 24.9 23.8 21.9 24.6 27.8 25.2 22.4 22.8 23.5\n",
      " 28.  30.3 33.6 34.4 30.8 31.1 30.  33.9 26.3 24.5 23.5 26.4 29.4 26.4\n",
      " 31.5 27.  27.9 29.2 21.8 22.  21.  20.7 25.6 24.3 24.  24.9 23.5 21.7\n",
      " 18.4 19.  20.4 22.3 20.4 17.4 16.5 16.7 12.8 11.4 12.2 14.2 14.2 13.4\n",
      " 14.3 15.2 15.9 14.1 11.8 12.7 16.6 19.6 17.5 16.9 15.2 13.4 10.3  9.3\n",
      " 10.5 10.6  9.4 11.9 11.5 10.6 11.  10.9  9.6 10.   9.5 12.1 12.4 12.4\n",
      " 11.3 10.2 10.3 10.7  9.8 10.5 10.5 12.1 11.9 11.8 11.6 10.2  9.6  8.9\n",
      "  8.6  9.8  9.1  9.9 11.3 12.  10.7 10.6 11.  13.5  6.6 11.3 14.  15.5\n",
      " 13.8 12.5 12.2 13.  13.8 12.8 14.5 17.1 21.1 18.4 21.  21.4 21.1 19.\n",
      " 18.6 17.2 14.7 16.5 14.6 13.7 18.1 18.5 18.3 18.6 22.2 19.4 18.8 19.6\n",
      " 25.6 22.9 20.3 19.3 19.4 22.6 21.2 19.5 16.2 20.3 19.9 19.5 17.2 16.5\n",
      " 20.2 28.1 28.9 30.  36.  37.5 34.4 37.5 31.5 36.8 37.4 43.  38.4 40.\n",
      " 44.7 47.5 42.6 38.7 26.4 26.6 34.5 29.7 28.8 34.2 38.6 39.3 35.4 29.3\n",
      " 29.  34.3 28.5 20.3 14.3 13.9 15.1 22.3 23.8 25.1 20.3 20.  19.  19.5\n",
      " 15.4 12.1 13.2 18.3 21.4 21.9 20.2 19.2 23.5 20.5 19.  21.4 22.1 20.8\n",
      " 20.2 24.  23.4 24.5 23.3 22.1 22.3 25.6 26.5 32.1 31.3 33.5 29.9 33.2\n",
      " 35.8 42.8 43.  40.7 34.4 33.6 35.4 34.8 28.1 28.  26.8 31.  26.4 25.2\n",
      " 31.  31.4 30.9 30.  30.3 30.7 27.6 25.6 25.1 30.8 27.1 26.5 29.1 33.2\n",
      " 37.2]\n"
     ]
    }
   ],
   "source": [
    "print(real)"
   ]
  },
  {
   "cell_type": "code",
   "execution_count": null,
   "metadata": {},
   "outputs": [],
   "source": []
  },
  {
   "cell_type": "code",
   "execution_count": 23,
   "metadata": {},
   "outputs": [
    {
     "data": {
      "image/png": "[encoded data removed]",
      "text/plain": [
       "<Figure size 640x480 with 1 Axes>"
      ]
     },
     "metadata": {},
     "output_type": "display_data"
    }
   ],
   "source": [
    "# Visualising the results\n",
    "plt.plot(real, color = 'red', label = 'Real Price')  # 紅線表示真實股價\n",
    "plt.plot(pred, color = 'blue', label = 'Predicted Price')  # 藍線表示預測股價\n",
    "plt.title('Price Prediction')\n",
    "plt.xlabel('Time')\n",
    "plt.ylabel('Real Price')\n",
    "plt.legend()\n",
    "plt.show()"
   ]
  },
  {
   "cell_type": "code",
   "execution_count": null,
   "metadata": {},
   "outputs": [],
   "source": []
  }
 ],
 "metadata": {
  "kernelspec": {
   "display_name": "Python 3.10.5 ('ox')",
   "language": "python",
   "name": "python3"
  },
  "language_info": {
   "codemirror_mode": {
    "name": "ipython",
    "version": 3
   },
   "file_extension": ".py",
   "mimetype": "text/x-python",
   "name": "python",
   "nbconvert_exporter": "python",
   "pygments_lexer": "ipython3",
   "version": "3.10.5"
  },
  "orig_nbformat": 4,
  "vscode": {
   "interpreter": {
    "hash": "a4e443fd1ca7fd3350a7a0b185f6306b13e34ba6181eeb3fd780c1d7ec31010d"
   }
  }
 },
 "nbformat": 4,
 "nbformat_minor": 2
}
