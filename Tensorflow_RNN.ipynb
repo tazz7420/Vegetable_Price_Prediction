{
 "cells": [
  {
   "cell_type": "code",
   "execution_count": 1,
   "metadata": {},
   "outputs": [],
   "source": [
    "import numpy as np\n",
    "import matplotlib.pyplot as plt\n",
    "import pandas as pd\n",
    "\n",
    "from sklearn.preprocessing import StandardScaler, MinMaxScaler"
   ]
  },
  {
   "cell_type": "code",
   "execution_count": 2,
   "metadata": {},
   "outputs": [
    {
     "name": "stdout",
     "output_type": "stream",
     "text": [
      "(7038, 19)\n",
      "Index(['Mon', 'Tue', 'Wed', 'Thu', 'Fri', 'Sat', 'Sun', 'pressure',\n",
      "       'temperature', 'humidity', 'windspeed', 'wind_direction',\n",
      "       'maximum_windspeed_x', 'maximum_wind_direction', 'rainfall', 'volume',\n",
      "       'level', 'alarms_count', 'price'],\n",
      "      dtype='object')\n",
      "19\n"
     ]
    }
   ],
   "source": [
    "dataset_train = pd.read_csv('forml.csv')  # 讀取\n",
    "dataset_train.drop(['Unnamed: 0','date','day','month','year','D+1','D+3','D+5','D+7'],axis=1,inplace=True)\n",
    "training_data = dataset_train[:7038]\n",
    "test_data = dataset_train[7038:7768]\n",
    "print(training_data.shape)\n",
    "print(test_data.columns)\n",
    "print(training_data.shape[1])"
   ]
  },
  {
   "cell_type": "code",
   "execution_count": 3,
   "metadata": {},
   "outputs": [
    {
     "name": "stdout",
     "output_type": "stream",
     "text": [
      "-0.8126060181758046\n"
     ]
    }
   ],
   "source": [
    "#sc = MinMaxScaler(feature_range=(0,1))\n",
    "sc = StandardScaler()\n",
    "training_data_sc = sc.fit_transform(training_data)\n",
    "test_data_sc = sc.transform(test_data)\n",
    "print(training_data_sc[1,18])"
   ]
  },
  {
   "cell_type": "code",
   "execution_count": 4,
   "metadata": {},
   "outputs": [],
   "source": [
    "def createXY(dataset, n_past):\n",
    "    X = []\n",
    "    y = []\n",
    "    for i in range(n_past, len(dataset)):\n",
    "        X.append(dataset[i - n_past:i, 0:dataset.shape[1]])\n",
    "        y.append(dataset[i,18])\n",
    "    return np.array(X),np.array(y)"
   ]
  },
  {
   "cell_type": "code",
   "execution_count": 5,
   "metadata": {},
   "outputs": [],
   "source": [
    "train_X, train_y = createXY(training_data_sc, 15)\n",
    "test_X, test_y = createXY(test_data_sc,15)"
   ]
  },
  {
   "cell_type": "code",
   "execution_count": 6,
   "metadata": {},
   "outputs": [],
   "source": [
    "# Import the Keras libraries and packages\n",
    "from keras.models import Sequential\n",
    "from keras.layers import Dense\n",
    "from keras.layers import LSTM\n",
    "from keras.layers import Dropout\n",
    "\n",
    "# Initialising the RNN\n",
    "regressor = Sequential()\n",
    "# Adding the first LSTM layer and some Dropout regularisation\n",
    "regressor.add(LSTM(units = 50, return_sequences = True, input_shape = (15,19)))\n",
    "#regressor.add(Dropout(0.2))\n",
    "\n",
    "# Adding a second LSTM layer and some Dropout regularisation\n",
    "regressor.add(LSTM(units = 50, return_sequences = True))\n",
    "#regressor.add(Dropout(0.2))\n",
    "\n",
    "# Adding a third LSTM layer and some Dropout regularisation\n",
    "regressor.add(LSTM(units = 50, return_sequences = True))\n",
    "#regressor.add(Dropout(0.2))\n",
    "\n",
    "# Adding a fourth LSTM layer and some Dropout regularisation\n",
    "regressor.add(LSTM(units = 50))\n",
    "#regressor.add(Dropout(0.2))\n",
    "\n",
    "# Adding the output layer\n",
    "regressor.add(Dense(units = 1))"
   ]
  },
  {
   "cell_type": "code",
   "execution_count": 7,
   "metadata": {},
   "outputs": [
    {
     "name": "stdout",
     "output_type": "stream",
     "text": [
      "Epoch 1/50\n",
      "55/55 [==============================] - 7s 36ms/step - loss: 0.3120\n",
      "Epoch 2/50\n",
      "55/55 [==============================] - 2s 33ms/step - loss: 0.1645\n",
      "Epoch 3/50\n",
      "55/55 [==============================] - 2s 33ms/step - loss: 0.1220\n",
      "Epoch 4/50\n",
      "55/55 [==============================] - 2s 32ms/step - loss: 0.0971\n",
      "Epoch 5/50\n",
      "55/55 [==============================] - 2s 33ms/step - loss: 0.0850\n",
      "Epoch 6/50\n",
      "55/55 [==============================] - 2s 31ms/step - loss: 0.0785\n",
      "Epoch 7/50\n",
      "55/55 [==============================] - 2s 31ms/step - loss: 0.0704\n",
      "Epoch 8/50\n",
      "55/55 [==============================] - 2s 31ms/step - loss: 0.0639\n",
      "Epoch 9/50\n",
      "55/55 [==============================] - 2s 36ms/step - loss: 0.0594\n",
      "Epoch 10/50\n",
      "55/55 [==============================] - 2s 34ms/step - loss: 0.0558\n",
      "Epoch 11/50\n",
      "55/55 [==============================] - 2s 35ms/step - loss: 0.0520\n",
      "Epoch 12/50\n",
      "55/55 [==============================] - 2s 35ms/step - loss: 0.0488\n",
      "Epoch 13/50\n",
      "55/55 [==============================] - 2s 34ms/step - loss: 0.0473\n",
      "Epoch 14/50\n",
      "55/55 [==============================] - 2s 33ms/step - loss: 0.0466\n",
      "Epoch 15/50\n",
      "55/55 [==============================] - 2s 32ms/step - loss: 0.0455\n",
      "Epoch 16/50\n",
      "55/55 [==============================] - 2s 32ms/step - loss: 0.0434\n",
      "Epoch 17/50\n",
      "55/55 [==============================] - 2s 35ms/step - loss: 0.0422\n",
      "Epoch 18/50\n",
      "55/55 [==============================] - 2s 34ms/step - loss: 0.0423\n",
      "Epoch 19/50\n",
      "55/55 [==============================] - 2s 34ms/step - loss: 0.0415\n",
      "Epoch 20/50\n",
      "55/55 [==============================] - 2s 34ms/step - loss: 0.0400\n",
      "Epoch 21/50\n",
      "55/55 [==============================] - 2s 35ms/step - loss: 0.0388\n",
      "Epoch 22/50\n",
      "55/55 [==============================] - 2s 33ms/step - loss: 0.0380\n",
      "Epoch 23/50\n",
      "55/55 [==============================] - 2s 32ms/step - loss: 0.0379\n",
      "Epoch 24/50\n",
      "55/55 [==============================] - 2s 35ms/step - loss: 0.0360\n",
      "Epoch 25/50\n",
      "55/55 [==============================] - 2s 33ms/step - loss: 0.0350\n",
      "Epoch 26/50\n",
      "55/55 [==============================] - 2s 33ms/step - loss: 0.0339\n",
      "Epoch 27/50\n",
      "55/55 [==============================] - 2s 34ms/step - loss: 0.0339\n",
      "Epoch 28/50\n",
      "55/55 [==============================] - 2s 33ms/step - loss: 0.0327\n",
      "Epoch 29/50\n",
      "55/55 [==============================] - 2s 34ms/step - loss: 0.0318\n",
      "Epoch 30/50\n",
      "55/55 [==============================] - 2s 34ms/step - loss: 0.0307\n",
      "Epoch 31/50\n",
      "55/55 [==============================] - 2s 33ms/step - loss: 0.0299\n",
      "Epoch 32/50\n",
      "55/55 [==============================] - 2s 35ms/step - loss: 0.0294\n",
      "Epoch 33/50\n",
      "55/55 [==============================] - 2s 35ms/step - loss: 0.0293\n",
      "Epoch 34/50\n",
      "55/55 [==============================] - 2s 34ms/step - loss: 0.0278\n",
      "Epoch 35/50\n",
      "55/55 [==============================] - 2s 36ms/step - loss: 0.0265\n",
      "Epoch 36/50\n",
      "55/55 [==============================] - 2s 37ms/step - loss: 0.0263\n",
      "Epoch 37/50\n",
      "55/55 [==============================] - 2s 36ms/step - loss: 0.0255\n",
      "Epoch 38/50\n",
      "55/55 [==============================] - 2s 36ms/step - loss: 0.0244\n",
      "Epoch 39/50\n",
      "55/55 [==============================] - 2s 34ms/step - loss: 0.0248\n",
      "Epoch 40/50\n",
      "55/55 [==============================] - 2s 34ms/step - loss: 0.0237\n",
      "Epoch 41/50\n",
      "55/55 [==============================] - 2s 34ms/step - loss: 0.0225\n",
      "Epoch 42/50\n",
      "55/55 [==============================] - 2s 34ms/step - loss: 0.0228\n",
      "Epoch 43/50\n",
      "55/55 [==============================] - 2s 35ms/step - loss: 0.0217\n",
      "Epoch 44/50\n",
      "55/55 [==============================] - 2s 37ms/step - loss: 0.0206\n",
      "Epoch 45/50\n",
      "55/55 [==============================] - 2s 34ms/step - loss: 0.0203\n",
      "Epoch 46/50\n",
      "55/55 [==============================] - 2s 34ms/step - loss: 0.0195\n",
      "Epoch 47/50\n",
      "55/55 [==============================] - 2s 34ms/step - loss: 0.0192\n",
      "Epoch 48/50\n",
      "55/55 [==============================] - 2s 34ms/step - loss: 0.0186\n",
      "Epoch 49/50\n",
      "55/55 [==============================] - 2s 34ms/step - loss: 0.0188\n",
      "Epoch 50/50\n",
      "55/55 [==============================] - 2s 34ms/step - loss: 0.0176\n"
     ]
    },
    {
     "data": {
      "text/plain": [
       "<keras.callbacks.History at 0x1acbc85c4c0>"
      ]
     },
     "execution_count": 7,
     "metadata": {},
     "output_type": "execute_result"
    }
   ],
   "source": [
    "# Compiling\n",
    "regressor.compile(optimizer = 'adam', loss = 'mean_squared_error')\n",
    "\n",
    "# 進行訓練\n",
    "regressor.fit(train_X, train_y, epochs = 50, batch_size = 128)"
   ]
  },
  {
   "cell_type": "code",
   "execution_count": 8,
   "metadata": {},
   "outputs": [
    {
     "name": "stdout",
     "output_type": "stream",
     "text": [
      "23/23 [==============================] - 1s 6ms/step\n",
      "[ 9.61389    9.870801   9.024233   9.842815   8.810467   7.6555915\n",
      "  7.842381   7.646013   7.928867   7.160437   7.5782     9.069427\n",
      "  9.880808   8.7831955  9.631118   8.769185   8.799706   9.077922\n",
      "  8.228344   9.3088045  8.363851   7.5545983  7.890989   8.418901\n",
      "  7.8908267  7.4513917  8.015079   9.131061   9.534187   9.711438\n",
      "  9.160271  13.393504  10.94051   11.705709  11.337161  11.591642\n",
      " 14.329578  11.88357   10.84192   11.304606  12.47809   11.367888\n",
      " 11.388598  10.987145  12.117763  14.503061  13.474355  12.210234\n",
      "  9.080858  10.181876   9.906754  11.182144  14.564339  14.329995\n",
      " 11.753233  11.95603   14.505862  13.590331  13.239874  12.86523\n",
      " 13.442148  13.715953  15.096984  14.976105  17.419157  12.666197\n",
      " 14.186055  15.3764925 16.699238  20.004124  17.863613  17.371181\n",
      " 16.707619  21.10357   21.591661  19.090174  19.289087  21.952784\n",
      " 18.654305  21.562891  19.734554  19.968224  19.840101  18.507116\n",
      " 19.313583  19.879564  18.309471  16.565659  22.474115  19.821459\n",
      " 21.064625  21.59812   24.840443  25.869621  29.241282  28.624468\n",
      " 35.253536  33.887638  36.49241   32.07263   30.210836  27.714624\n",
      " 29.195509  29.651026  27.48245   26.862837  26.354746  24.977158\n",
      " 25.359491  26.713995  30.460709  27.493307  30.945524  24.83541\n",
      " 24.050371  23.647135  24.827658  28.963757  29.962482  26.6595\n",
      " 26.287874  28.453386  26.774557  30.676163  28.274677  28.836782\n",
      " 29.911537  29.821577  26.667347  29.58361   33.617825  36.619164\n",
      " 28.668839  30.952965  34.843044  34.337994  29.528744  28.639776\n",
      " 33.273876  30.459011  31.82258   28.12079   31.66639   35.24749\n",
      " 34.356037  43.864433  40.39092   33.605797  36.45835   35.57005\n",
      " 32.505444  33.758926  36.52259   40.552692  36.107887  32.463505\n",
      " 38.586235  35.59244   34.323586  31.676256  37.26627   27.915455\n",
      " 28.158262  26.929464  30.508385  28.291779  28.76235   30.84076\n",
      " 26.8213    25.712044  29.442053  27.948957  36.525223  31.341986\n",
      " 32.17634   33.362427  30.793884  37.94471   32.05711   29.500662\n",
      " 30.56285   34.844666  34.858574  32.259727  28.680069  31.98468\n",
      " 32.576935  34.499252  34.452698  35.686813  34.664894  31.189257\n",
      " 35.38063   39.090206  41.500957  34.438713  31.931135  26.421896\n",
      " 30.910322  27.024479  31.485323  25.226303  28.545216  24.558678\n",
      " 20.925297  23.144934  23.272804  23.519737  27.755106  20.489048\n",
      " 22.028492  21.612938  16.332474  17.70347   17.274406  15.551709\n",
      " 16.08035   15.041952  16.236578  16.579132  15.054743  17.256393\n",
      " 18.655172  18.694439  17.54051   18.92675   17.496355  20.685621\n",
      " 16.776539  22.252018  20.222889  20.96893   20.578398  19.023113\n",
      " 18.19145   18.232904  18.404345  19.001257  20.097853  19.75137\n",
      " 21.194641  23.513252  25.22507   24.424126  25.064856  24.046816\n",
      " 23.479576  22.8717    23.424467  24.28768   24.521612  23.632565\n",
      " 23.667473  25.111103  25.831469  23.285236  23.812044  21.387148\n",
      " 19.339436  23.044558  30.554155  33.596966  32.301384  33.297245\n",
      " 30.009687  27.107723  22.539553  17.406845  15.830062  14.581786\n",
      " 14.580417  17.394972  16.091902  14.006065  12.464     13.616491\n",
      " 13.972573  12.02972   11.371815   9.553672   9.889856   9.5739765\n",
      " 10.028203   9.054228   9.962377  10.660715   8.899127   7.5545907\n",
      "  7.8308682  6.751736   5.9710746  5.3340564  4.8953624  5.4058757\n",
      "  6.023215   5.183498   5.574494   5.2220426  5.3320355  4.9960217\n",
      "  6.033816   6.022568   6.884689   6.7967877  7.1919246  7.332891\n",
      "  7.2214484  7.559631   6.74418    6.2649655  6.519299   6.818395\n",
      "  5.977031   7.4348435  7.0873237  6.327562   6.4285874  6.365978\n",
      "  6.999459   6.9682155  6.4736657  6.823508   8.419074   9.190186\n",
      " 10.958605   9.11739    9.932846  10.728337   9.737321   9.77745\n",
      "  9.761058  10.434628  12.441963  13.336158  13.839897  12.538275\n",
      " 11.370296   9.786189  11.316545  14.413323  12.3190975 12.721875\n",
      " 13.039367  12.922266  10.365868  11.57581   12.819213  11.706257\n",
      " 11.752146  10.668625  11.292299  12.160074  11.882317  10.975534\n",
      " 10.297554  11.413653  11.713097  12.617423  20.197422  17.624578\n",
      " 16.2989    17.096233  16.973825  23.476488  25.198244 ]\n"
     ]
    }
   ],
   "source": [
    "predicted_price = regressor.predict(test_X)\n",
    "predicted_price_array = np.repeat(predicted_price,19,axis=-1)\n",
    "pred = sc.inverse_transform(np.reshape(predicted_price_array,(len(predicted_price),19)))[:,18]\n",
    "print(pred)"
   ]
  },
  {
   "cell_type": "code",
   "execution_count": 9,
   "metadata": {},
   "outputs": [],
   "source": [
    "real_price_array = np.repeat(test_y,19,axis=-1)\n",
    "real = sc.inverse_transform(np.reshape(real_price_array,(len(test_y),19)))[:,18]"
   ]
  },
  {
   "cell_type": "code",
   "execution_count": null,
   "metadata": {},
   "outputs": [],
   "source": []
  },
  {
   "cell_type": "code",
   "execution_count": null,
   "metadata": {},
   "outputs": [],
   "source": []
  },
  {
   "cell_type": "code",
   "execution_count": 10,
   "metadata": {},
   "outputs": [
    {
     "data": {
      "image/png": "[encoded data removed]",
      "text/plain": [
       "<Figure size 640x480 with 1 Axes>"
      ]
     },
     "metadata": {},
     "output_type": "display_data"
    }
   ],
   "source": [
    "# Visualising the results\n",
    "plt.plot(real, color = 'red', label = 'Real Price')  # 紅線表示真實股價\n",
    "plt.plot(pred, color = 'blue', label = 'Predicted Price')  # 藍線表示預測股價\n",
    "plt.title('Price Prediction')\n",
    "plt.xlabel('Time')\n",
    "plt.ylabel('Real Price')\n",
    "plt.legend()\n",
    "plt.show()"
   ]
  },
  {
   "cell_type": "code",
   "execution_count": null,
   "metadata": {},
   "outputs": [],
   "source": []
  }
 ],
 "metadata": {
  "kernelspec": {
   "display_name": "Python 3.10.5 ('ox')",
   "language": "python",
   "name": "python3"
  },
  "language_info": {
   "codemirror_mode": {
    "name": "ipython",
    "version": 3
   },
   "file_extension": ".py",
   "mimetype": "text/x-python",
   "name": "python",
   "nbconvert_exporter": "python",
   "pygments_lexer": "ipython3",
   "version": "3.10.5"
  },
  "orig_nbformat": 4,
  "vscode": {
   "interpreter": {
    "hash": "a4e443fd1ca7fd3350a7a0b185f6306b13e34ba6181eeb3fd780c1d7ec31010d"
   }
  }
 },
 "nbformat": 4,
 "nbformat_minor": 2
}
